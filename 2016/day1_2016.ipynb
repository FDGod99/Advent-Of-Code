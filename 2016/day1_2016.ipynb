{
 "cells": [
  {
   "attachments": {},
   "cell_type": "markdown",
   "metadata": {},
   "source": [
    "## Taking input"
   ]
  },
  {
   "cell_type": "code",
   "execution_count": 1,
   "metadata": {},
   "outputs": [],
   "source": [
    "inputfile = open(\"/Users/fdgod/Desktop/My Projects/Advent-Of-Code-2022/2016/day1_2016.txt\", \"r\")\n"
   ]
  },
  {
   "attachments": {},
   "cell_type": "markdown",
   "metadata": {},
   "source": [
    "## Part 1"
   ]
  },
  {
   "cell_type": "code",
   "execution_count": 7,
   "metadata": {},
   "outputs": [
    {
     "name": "stdout",
     "output_type": "stream",
     "text": [
      "[' R5', ' R4', ' R2', ' L3', ' R1', ' R1', ' L4', ' L5', ' R3', ' L1', ' L1', ' R4', ' L2', ' R1', ' R4', ' R4', ' L2', ' L2', ' R4', ' L4', ' R1', ' R3', ' L3', ' L1', ' L2', ' R1', ' R5', ' L5', ' L1', ' L1', ' R3', ' R5', ' L1', ' R4', ' L5', ' R5', ' R1', ' L185', ' R4', ' L1', ' R51', ' R3', ' L2', ' R78', ' R1', ' L4', ' R188', ' R1', ' L5', ' R5', ' R2', ' R3', ' L5', ' R3', ' R4', ' L1', ' R2', ' R2', ' L4', ' L4', ' L5', ' R5', ' R4', ' L4', ' R2', ' L5', ' R2', ' L1', ' L4', ' R4', ' L4', ' R2', ' L3', ' L4', ' R2', ' L3', ' R3', ' R2', ' L2', ' L3', ' R4', ' R3', ' R1', ' L4', ' L2', ' L5', ' R4', ' R4', ' L1', ' R1', ' L5', ' L1', ' R3', ' R1', ' L2', ' R1', ' R1', ' R3', ' L4', ' L1', ' L3', ' R2', ' R4', ' R2', ' L2', ' R1', ' L5', ' R3', ' L3', ' R3', ' L1', ' R4', ' L3', ' L3', ' R4', ' L2', ' L1', ' L3', ' R2', ' R3', ' L2', ' L1', ' R4', ' L3', ' L5', ' L2', ' L4', ' R1', ' L4', ' L4', ' R3', ' R5', ' L4', ' L1', ' L1', ' R4', ' L2', ' R5', ' R1', ' R1', ' R2', ' R1', ' R5', ' L1', ' L3', ' L5', ' R2']\n"
     ]
    }
   ],
   "source": [
    "for i in inputfile:\n",
    "    string1 = str(i)\n",
    "\n",
    "a=[]\n",
    "a = string1.split(\",\")\n",
    "a[0]=' R5'\n",
    "print(a)"
   ]
  },
  {
   "cell_type": "code",
   "execution_count": 8,
   "metadata": {},
   "outputs": [
    {
     "name": "stdout",
     "output_type": "stream",
     "text": [
      "R 5\n",
      "R 4\n",
      "R 2\n",
      "L 3\n",
      "R 1\n",
      "R 1\n",
      "L 4\n",
      "L 5\n",
      "R 3\n",
      "L 1\n",
      "L 1\n",
      "R 4\n",
      "L 2\n",
      "R 1\n",
      "R 4\n",
      "R 4\n",
      "L 2\n",
      "L 2\n",
      "R 4\n",
      "L 4\n",
      "R 1\n",
      "R 3\n",
      "L 3\n",
      "L 1\n",
      "L 2\n",
      "R 1\n",
      "R 5\n",
      "L 5\n",
      "L 1\n",
      "L 1\n",
      "R 3\n",
      "R 5\n",
      "L 1\n",
      "R 4\n",
      "L 5\n",
      "R 5\n",
      "R 1\n",
      "L 1\n",
      "R 4\n",
      "L 1\n",
      "R 5\n",
      "R 3\n",
      "L 2\n",
      "R 7\n",
      "R 1\n",
      "L 4\n",
      "R 1\n",
      "R 1\n",
      "L 5\n",
      "R 5\n",
      "R 2\n",
      "R 3\n",
      "L 5\n",
      "R 3\n",
      "R 4\n",
      "L 1\n",
      "R 2\n",
      "R 2\n",
      "L 4\n",
      "L 4\n",
      "L 5\n",
      "R 5\n",
      "R 4\n",
      "L 4\n",
      "R 2\n",
      "L 5\n",
      "R 2\n",
      "L 1\n",
      "L 4\n",
      "R 4\n",
      "L 4\n",
      "R 2\n",
      "L 3\n",
      "L 4\n",
      "R 2\n",
      "L 3\n",
      "R 3\n",
      "R 2\n",
      "L 2\n",
      "L 3\n",
      "R 4\n",
      "R 3\n",
      "R 1\n",
      "L 4\n",
      "L 2\n",
      "L 5\n",
      "R 4\n",
      "R 4\n",
      "L 1\n",
      "R 1\n",
      "L 5\n",
      "L 1\n",
      "R 3\n",
      "R 1\n",
      "L 2\n",
      "R 1\n",
      "R 1\n",
      "R 3\n",
      "L 4\n",
      "L 1\n",
      "L 3\n",
      "R 2\n",
      "R 4\n",
      "R 2\n",
      "L 2\n",
      "R 1\n",
      "L 5\n",
      "R 3\n",
      "L 3\n",
      "R 3\n",
      "L 1\n",
      "R 4\n",
      "L 3\n",
      "L 3\n",
      "R 4\n",
      "L 2\n",
      "L 1\n",
      "L 3\n",
      "R 2\n",
      "R 3\n",
      "L 2\n",
      "L 1\n",
      "R 4\n",
      "L 3\n",
      "L 5\n",
      "L 2\n",
      "L 4\n",
      "R 1\n",
      "L 4\n",
      "L 4\n",
      "R 3\n",
      "R 5\n",
      "L 4\n",
      "L 1\n",
      "L 1\n",
      "R 4\n",
      "L 2\n",
      "R 5\n",
      "R 1\n",
      "R 1\n",
      "R 2\n",
      "R 1\n",
      "R 5\n",
      "L 1\n",
      "L 3\n",
      "L 5\n",
      "R 2\n",
      "218 201\n"
     ]
    }
   ],
   "source": [
    "xc = 0\n",
    "yc = 0\n",
    "\n",
    "\n",
    "for j in a:\n",
    "    print(j[1],j[2])\n",
    "    if j[1]==\"R\":\n",
    "        xc=xc+int(j[2])\n",
    "    elif j[1]==\"L\":\n",
    "        yc=yc+int(j[2])\n",
    "\n",
    "print(xc,yc)\n"
   ]
  },
  {
   "cell_type": "code",
   "execution_count": 5,
   "metadata": {},
   "outputs": [
    {
     "data": {
      "text/plain": [
       "85770"
      ]
     },
     "execution_count": 5,
     "metadata": {},
     "output_type": "execute_result"
    }
   ],
   "source": [
    "(213**2) + (201**2)"
   ]
  },
  {
   "cell_type": "code",
   "execution_count": null,
   "metadata": {},
   "outputs": [],
   "source": []
  }
 ],
 "metadata": {
  "kernelspec": {
   "display_name": "Python 3",
   "language": "python",
   "name": "python3"
  },
  "language_info": {
   "codemirror_mode": {
    "name": "ipython",
    "version": 3
   },
   "file_extension": ".py",
   "mimetype": "text/x-python",
   "name": "python",
   "nbconvert_exporter": "python",
   "pygments_lexer": "ipython3",
   "version": "3.9.2"
  },
  "orig_nbformat": 4
 },
 "nbformat": 4,
 "nbformat_minor": 2
}
